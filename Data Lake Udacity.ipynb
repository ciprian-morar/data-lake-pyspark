{
 "cells": [
  {
   "cell_type": "code",
   "execution_count": 1,
   "metadata": {},
   "outputs": [
    {
     "data": {
      "application/vnd.jupyter.widget-view+json": {
       "model_id": "8b7c85cce686463890f927ce4b281ff4",
       "version_major": 2,
       "version_minor": 0
      },
      "text/plain": [
       "VBox()"
      ]
     },
     "metadata": {},
     "output_type": "display_data"
    },
    {
     "name": "stdout",
     "output_type": "stream",
     "text": [
      "Starting Spark application\n"
     ]
    },
    {
     "data": {
      "text/html": [
       "<table>\n",
       "<tr><th>ID</th><th>YARN Application ID</th><th>Kind</th><th>State</th><th>Spark UI</th><th>Driver log</th><th>Current session?</th></tr><tr><td>0</td><td>application_1613379453976_0002</td><td>pyspark</td><td>idle</td><td><a target=\"_blank\" href=\"http://ip-172-31-30-184.eu-west-1.compute.internal:20888/proxy/application_1613379453976_0002/\">Link</a></td><td><a target=\"_blank\" href=\"http://ip-172-31-21-205.eu-west-1.compute.internal:8042/node/containerlogs/container_1613379453976_0002_01_000001/livy\">Link</a></td><td>✔</td></tr></table>"
      ],
      "text/plain": [
       "<IPython.core.display.HTML object>"
      ]
     },
     "metadata": {},
     "output_type": "display_data"
    },
    {
     "data": {
      "application/vnd.jupyter.widget-view+json": {
       "model_id": "",
       "version_major": 2,
       "version_minor": 0
      },
      "text/plain": [
       "FloatProgress(value=0.0, bar_style='info', description='Progress:', layout=Layout(height='25px', width='50%'),…"
      ]
     },
     "metadata": {},
     "output_type": "display_data"
    },
    {
     "name": "stdout",
     "output_type": "stream",
     "text": [
      "SparkSession available as 'spark'.\n"
     ]
    },
    {
     "data": {
      "application/vnd.jupyter.widget-view+json": {
       "model_id": "",
       "version_major": 2,
       "version_minor": 0
      },
      "text/plain": [
       "FloatProgress(value=0.0, bar_style='info', description='Progress:', layout=Layout(height='25px', width='50%'),…"
      ]
     },
     "metadata": {},
     "output_type": "display_data"
    }
   ],
   "source": [
    "from pyspark.sql import SparkSession\n",
    "import os\n",
    "import configparser\n",
    "\n",
    "config = configparser.ConfigParser()\n",
    "\n",
    "#Normally this file should be in ~/.aws/credentials\n",
    "# config.read('s3://aws-emr-resources-219775554902-eu-west-1/e-CS11RWMBOHEH1S925WBQG8SL5/aws/credentials.cfg')\n",
    "\n",
    "# os.environ[\"AWS_ACCESS_KEY_ID\"]= config['AWS']['AWS_ACCESS_KEY_ID']\n",
    "# os.environ[\"AWS_SECRET_ACCESS_KEY\"]= config['AWS']['AWS_SECRET_ACCESS_KEY']\n",
    "\n",
    "\n",
    "spark = SparkSession.builder\\\n",
    "                     .config(\"spark.jars.packages\",\"org.apache.hadoop:hadoop-aws:2.7.0\")\\\n",
    "                     .getOrCreate()\n"
   ]
  },
  {
   "cell_type": "code",
   "execution_count": 2,
   "metadata": {},
   "outputs": [
    {
     "data": {
      "application/vnd.jupyter.widget-view+json": {
       "model_id": "69f21adc48454b92a070a3e81b4c3076",
       "version_major": 2,
       "version_minor": 0
      },
      "text/plain": [
       "VBox()"
      ]
     },
     "metadata": {},
     "output_type": "display_data"
    },
    {
     "data": {
      "application/vnd.jupyter.widget-view+json": {
       "model_id": "",
       "version_major": 2,
       "version_minor": 0
      },
      "text/plain": [
       "FloatProgress(value=0.0, bar_style='info', description='Progress:', layout=Layout(height='25px', width='50%'),…"
      ]
     },
     "metadata": {},
     "output_type": "display_data"
    }
   ],
   "source": [
    "input_data = \"s3a://udacity-dend/\"\n",
    "output_data = \"s3a://udacity-aws-parquet/\"\n",
    "song_data = input_data + 'song_data/A/A/*/*.json'"
   ]
  },
  {
   "cell_type": "code",
   "execution_count": 3,
   "metadata": {},
   "outputs": [
    {
     "data": {
      "application/vnd.jupyter.widget-view+json": {
       "model_id": "be4506c0febe4c4ab88aa82039ce4f7d",
       "version_major": 2,
       "version_minor": 0
      },
      "text/plain": [
       "VBox()"
      ]
     },
     "metadata": {},
     "output_type": "display_data"
    },
    {
     "data": {
      "application/vnd.jupyter.widget-view+json": {
       "model_id": "",
       "version_major": 2,
       "version_minor": 0
      },
      "text/plain": [
       "FloatProgress(value=0.0, bar_style='info', description='Progress:', layout=Layout(height='25px', width='50%'),…"
      ]
     },
     "metadata": {},
     "output_type": "display_data"
    },
    {
     "name": "stdout",
     "output_type": "stream",
     "text": [
      "[Row(artist_id='ARSUVLW12454A4C8B8', artist_latitude=35.83073, artist_location='Tennessee', artist_longitude=-85.97874, artist_name='Royal Philharmonic Orchestra/Sir Thomas Beecham', duration=94.56281, num_songs=1, song_id='SOBTCUI12A8AE48B70', title='Faust: Ballet Music (1959 Digital Remaster): VI.     Variations du miroir (Allegretto)', year=0), Row(artist_id='ARXQC081187FB4AD42', artist_latitude=54.31407, artist_location='UK', artist_longitude=-2.23001, artist_name='William Shatner_ David Itkin_ The Arkansas Symphony Orchestra_ Paul Rowe', duration=1047.71873, num_songs=1, song_id='SOXRPUH12AB017F769', title='Exodus: Part I: Moses and Pharaoh', year=0), Row(artist_id='ARWUNH81187FB4A3E0', artist_latitude=None, artist_location='Miami , Florida', artist_longitude=None, artist_name='Trick Daddy', duration=227.10812, num_songs=1, song_id='SOVNKJI12A8C13CB0D', title=\"Take It To Da House (Featuring The Slip N' Slide Express) (Super Clean Album Version)\", year=2001), Row(artist_id='ARTC1LV1187B9A4858', artist_latitude=51.4536, artist_location=\"Goldsmith's College, Lewisham, Lo\", artist_longitude=-0.01802, artist_name='The Bonzo Dog Band', duration=301.40036, num_songs=1, song_id='SOAFBCP12A8C13CC7D', title='King Of Scurf (2007 Digital Remaster)', year=1972), Row(artist_id='ARA23XO1187B9AF18F', artist_latitude=40.57885, artist_location='Carteret, New Jersey', artist_longitude=-74.21956, artist_name='The Smithereens', duration=192.522, num_songs=1, song_id='SOKTJDS12AF72A25E5', title='Drown In My Own Tears (24-Bit Digitally Remastered 04)', year=0)]"
     ]
    }
   ],
   "source": [
    "df = spark.read.json(song_data)\n",
    "# sons_table=spark.sql(\"\"\"\n",
    "\n",
    "# \"\"\")\n",
    "df.head(5)"
   ]
  },
  {
   "cell_type": "code",
   "execution_count": 5,
   "metadata": {},
   "outputs": [
    {
     "data": {
      "application/vnd.jupyter.widget-view+json": {
       "model_id": "62ebcbde04544d0c914d956d6c3370a3",
       "version_major": 2,
       "version_minor": 0
      },
      "text/plain": [
       "VBox()"
      ]
     },
     "metadata": {},
     "output_type": "display_data"
    },
    {
     "data": {
      "application/vnd.jupyter.widget-view+json": {
       "model_id": "",
       "version_major": 2,
       "version_minor": 0
      },
      "text/plain": [
       "FloatProgress(value=0.0, bar_style='info', description='Progress:', layout=Layout(height='25px', width='50%'),…"
      ]
     },
     "metadata": {},
     "output_type": "display_data"
    }
   ],
   "source": [
    "df.createOrReplaceTempView(\"song_table\")\n",
    "songs_table = spark.sql(\"\"\"\n",
    "    SELECT DISTINCT(song_id),title, artist_id, year, duration\n",
    "    FROM song_table\n",
    "\"\"\")"
   ]
  },
  {
   "cell_type": "code",
   "execution_count": 6,
   "metadata": {},
   "outputs": [
    {
     "data": {
      "application/vnd.jupyter.widget-view+json": {
       "model_id": "3453d732f47c48d7b7398a894582786a",
       "version_major": 2,
       "version_minor": 0
      },
      "text/plain": [
       "VBox()"
      ]
     },
     "metadata": {},
     "output_type": "display_data"
    },
    {
     "data": {
      "application/vnd.jupyter.widget-view+json": {
       "model_id": "",
       "version_major": 2,
       "version_minor": 0
      },
      "text/plain": [
       "FloatProgress(value=0.0, bar_style='info', description='Progress:', layout=Layout(height='25px', width='50%'),…"
      ]
     },
     "metadata": {},
     "output_type": "display_data"
    },
    {
     "name": "stdout",
     "output_type": "stream",
     "text": [
      "[Row(song_id='SOBBWUL12A8C139989', title=\"I'm Falling In Love\", artist_id='AR3WWZM1187B996646', year=1997, duration=230.66077), Row(song_id='SOLPPOD12A6701D227', title='Me And The Farmer', artist_id='ARBVX4Y1187FB42E5E', year=1987, duration=176.79628), Row(song_id='SOXUMIO12AB01817EB', title='Push Dis', artist_id='AR4BILX1187B989036', year=0, duration=379.34975), Row(song_id='SOLOOSA12AC4688A3C', title='Corazon Partio Club Mix Edit', artist_id='ARQATCR1187FB4D3E6', year=0, duration=270.0273), Row(song_id='SORIMDD12A6D4F8B32', title='Dream/Memory?', artist_id='ARC5JAZ1187B98EA82', year=2003, duration=209.65832)]"
     ]
    }
   ],
   "source": [
    "songs_table.take(5)"
   ]
  },
  {
   "cell_type": "code",
   "execution_count": 7,
   "metadata": {},
   "outputs": [
    {
     "data": {
      "application/vnd.jupyter.widget-view+json": {
       "model_id": "95e010629c3844b098ac583c0c8f1d3e",
       "version_major": 2,
       "version_minor": 0
      },
      "text/plain": [
       "VBox()"
      ]
     },
     "metadata": {},
     "output_type": "display_data"
    },
    {
     "data": {
      "application/vnd.jupyter.widget-view+json": {
       "model_id": "",
       "version_major": 2,
       "version_minor": 0
      },
      "text/plain": [
       "FloatProgress(value=0.0, bar_style='info', description='Progress:', layout=Layout(height='25px', width='50%'),…"
      ]
     },
     "metadata": {},
     "output_type": "display_data"
    }
   ],
   "source": [
    "songs_table.write.partitionBy(\"year\", \"artist_id\").mode('overwrite').parquet(os.path.join(output_data, 'songs'))"
   ]
  },
  {
   "cell_type": "code",
   "execution_count": 8,
   "metadata": {},
   "outputs": [
    {
     "data": {
      "application/vnd.jupyter.widget-view+json": {
       "model_id": "52a074cb61544599afac028e50778a49",
       "version_major": 2,
       "version_minor": 0
      },
      "text/plain": [
       "VBox()"
      ]
     },
     "metadata": {},
     "output_type": "display_data"
    },
    {
     "data": {
      "application/vnd.jupyter.widget-view+json": {
       "model_id": "",
       "version_major": 2,
       "version_minor": 0
      },
      "text/plain": [
       "FloatProgress(value=0.0, bar_style='info', description='Progress:', layout=Layout(height='25px', width='50%'),…"
      ]
     },
     "metadata": {},
     "output_type": "display_data"
    }
   ],
   "source": [
    "artists_table = df['artist_id', 'artist_name', 'artist_location', 'artist_latitude', 'artist_longitude']"
   ]
  },
  {
   "cell_type": "code",
   "execution_count": 9,
   "metadata": {},
   "outputs": [
    {
     "data": {
      "application/vnd.jupyter.widget-view+json": {
       "model_id": "9e3dc4cb43994631920bd68d854683c2",
       "version_major": 2,
       "version_minor": 0
      },
      "text/plain": [
       "VBox()"
      ]
     },
     "metadata": {},
     "output_type": "display_data"
    },
    {
     "data": {
      "application/vnd.jupyter.widget-view+json": {
       "model_id": "",
       "version_major": 2,
       "version_minor": 0
      },
      "text/plain": [
       "FloatProgress(value=0.0, bar_style='info', description='Progress:', layout=Layout(height='25px', width='50%'),…"
      ]
     },
     "metadata": {},
     "output_type": "display_data"
    },
    {
     "name": "stdout",
     "output_type": "stream",
     "text": [
      "[Row(artist_id='ARSUVLW12454A4C8B8', artist_name='Royal Philharmonic Orchestra/Sir Thomas Beecham', artist_location='Tennessee', artist_latitude=35.83073, artist_longitude=-85.97874), Row(artist_id='ARXQC081187FB4AD42', artist_name='William Shatner_ David Itkin_ The Arkansas Symphony Orchestra_ Paul Rowe', artist_location='UK', artist_latitude=54.31407, artist_longitude=-2.23001), Row(artist_id='ARWUNH81187FB4A3E0', artist_name='Trick Daddy', artist_location='Miami , Florida', artist_latitude=None, artist_longitude=None), Row(artist_id='ARTC1LV1187B9A4858', artist_name='The Bonzo Dog Band', artist_location=\"Goldsmith's College, Lewisham, Lo\", artist_latitude=51.4536, artist_longitude=-0.01802), Row(artist_id='ARA23XO1187B9AF18F', artist_name='The Smithereens', artist_location='Carteret, New Jersey', artist_latitude=40.57885, artist_longitude=-74.21956)]"
     ]
    }
   ],
   "source": [
    "artists_table.take(5)"
   ]
  },
  {
   "cell_type": "code",
   "execution_count": 10,
   "metadata": {},
   "outputs": [
    {
     "data": {
      "application/vnd.jupyter.widget-view+json": {
       "model_id": "7b4dccea8065424297822aa599060d99",
       "version_major": 2,
       "version_minor": 0
      },
      "text/plain": [
       "VBox()"
      ]
     },
     "metadata": {},
     "output_type": "display_data"
    },
    {
     "data": {
      "application/vnd.jupyter.widget-view+json": {
       "model_id": "",
       "version_major": 2,
       "version_minor": 0
      },
      "text/plain": [
       "FloatProgress(value=0.0, bar_style='info', description='Progress:', layout=Layout(height='25px', width='50%'),…"
      ]
     },
     "metadata": {},
     "output_type": "display_data"
    }
   ],
   "source": [
    "artists_table.write.mode('overwrite').parquet(os.path.join(output_data, 'artists'))"
   ]
  },
  {
   "cell_type": "code",
   "execution_count": 11,
   "metadata": {},
   "outputs": [
    {
     "data": {
      "application/vnd.jupyter.widget-view+json": {
       "model_id": "a238bb67698247b598eae7d9d3d86a80",
       "version_major": 2,
       "version_minor": 0
      },
      "text/plain": [
       "VBox()"
      ]
     },
     "metadata": {},
     "output_type": "display_data"
    },
    {
     "data": {
      "application/vnd.jupyter.widget-view+json": {
       "model_id": "",
       "version_major": 2,
       "version_minor": 0
      },
      "text/plain": [
       "FloatProgress(value=0.0, bar_style='info', description='Progress:', layout=Layout(height='25px', width='50%'),…"
      ]
     },
     "metadata": {},
     "output_type": "display_data"
    },
    {
     "name": "stdout",
     "output_type": "stream",
     "text": [
      "[Row(artist='Harmonia', auth='Logged In', firstName='Ryan', gender='M', itemInSession=0, lastName='Smith', length=655.77751, level='free', location='San Jose-Sunnyvale-Santa Clara, CA', method='PUT', page='NextSong', registration=1541016707796.0, sessionId=583, song='Sehr kosmisch', status=200, ts=1542241826796, userAgent='\"Mozilla/5.0 (X11; Linux x86_64) AppleWebKit/537.36 (KHTML, like Gecko) Ubuntu Chromium/36.0.1985.125 Chrome/36.0.1985.125 Safari/537.36\"', userId='26'), Row(artist='The Prodigy', auth='Logged In', firstName='Ryan', gender='M', itemInSession=1, lastName='Smith', length=260.07465, level='free', location='San Jose-Sunnyvale-Santa Clara, CA', method='PUT', page='NextSong', registration=1541016707796.0, sessionId=583, song='The Big Gundown', status=200, ts=1542242481796, userAgent='\"Mozilla/5.0 (X11; Linux x86_64) AppleWebKit/537.36 (KHTML, like Gecko) Ubuntu Chromium/36.0.1985.125 Chrome/36.0.1985.125 Safari/537.36\"', userId='26'), Row(artist='Train', auth='Logged In', firstName='Ryan', gender='M', itemInSession=2, lastName='Smith', length=205.45261, level='free', location='San Jose-Sunnyvale-Santa Clara, CA', method='PUT', page='NextSong', registration=1541016707796.0, sessionId=583, song='Marry Me', status=200, ts=1542242741796, userAgent='\"Mozilla/5.0 (X11; Linux x86_64) AppleWebKit/537.36 (KHTML, like Gecko) Ubuntu Chromium/36.0.1985.125 Chrome/36.0.1985.125 Safari/537.36\"', userId='26'), Row(artist=None, auth='Logged In', firstName='Wyatt', gender='M', itemInSession=0, lastName='Scott', length=None, level='free', location='Eureka-Arcata-Fortuna, CA', method='GET', page='Home', registration=1540872073796.0, sessionId=563, song=None, status=200, ts=1542247071796, userAgent='Mozilla/5.0 (Windows NT 6.1; WOW64; Trident/7.0; rv:11.0) like Gecko', userId='9'), Row(artist=None, auth='Logged In', firstName='Austin', gender='M', itemInSession=0, lastName='Rosales', length=None, level='free', location='New York-Newark-Jersey City, NY-NJ-PA', method='GET', page='Home', registration=1541059521796.0, sessionId=521, song=None, status=200, ts=1542252577796, userAgent='Mozilla/5.0 (Windows NT 6.1; rv:31.0) Gecko/20100101 Firefox/31.0', userId='12')]"
     ]
    }
   ],
   "source": [
    "input_data = \"s3a://udacity-dend/\"\n",
    "log_data = input_data + 'log_data/*/*/*.json'\n",
    "\n",
    "df = spark.read.json(log_data)\n",
    "df.take(5)"
   ]
  },
  {
   "cell_type": "code",
   "execution_count": 12,
   "metadata": {},
   "outputs": [
    {
     "data": {
      "application/vnd.jupyter.widget-view+json": {
       "model_id": "63b9a0c4f2c9440c8c45de26c0880bbe",
       "version_major": 2,
       "version_minor": 0
      },
      "text/plain": [
       "VBox()"
      ]
     },
     "metadata": {},
     "output_type": "display_data"
    },
    {
     "data": {
      "application/vnd.jupyter.widget-view+json": {
       "model_id": "",
       "version_major": 2,
       "version_minor": 0
      },
      "text/plain": [
       "FloatProgress(value=0.0, bar_style='info', description='Progress:', layout=Layout(height='25px', width='50%'),…"
      ]
     },
     "metadata": {},
     "output_type": "display_data"
    },
    {
     "name": "stdout",
     "output_type": "stream",
     "text": [
      "[Row(artist='Harmonia', auth='Logged In', firstName='Ryan', gender='M', itemInSession=0, lastName='Smith', length=655.77751, level='free', location='San Jose-Sunnyvale-Santa Clara, CA', method='PUT', page='NextSong', registration=1541016707796.0, sessionId=583, song='Sehr kosmisch', status=200, ts=1542241826796, userAgent='\"Mozilla/5.0 (X11; Linux x86_64) AppleWebKit/537.36 (KHTML, like Gecko) Ubuntu Chromium/36.0.1985.125 Chrome/36.0.1985.125 Safari/537.36\"', userId='26'), Row(artist='The Prodigy', auth='Logged In', firstName='Ryan', gender='M', itemInSession=1, lastName='Smith', length=260.07465, level='free', location='San Jose-Sunnyvale-Santa Clara, CA', method='PUT', page='NextSong', registration=1541016707796.0, sessionId=583, song='The Big Gundown', status=200, ts=1542242481796, userAgent='\"Mozilla/5.0 (X11; Linux x86_64) AppleWebKit/537.36 (KHTML, like Gecko) Ubuntu Chromium/36.0.1985.125 Chrome/36.0.1985.125 Safari/537.36\"', userId='26'), Row(artist='Train', auth='Logged In', firstName='Ryan', gender='M', itemInSession=2, lastName='Smith', length=205.45261, level='free', location='San Jose-Sunnyvale-Santa Clara, CA', method='PUT', page='NextSong', registration=1541016707796.0, sessionId=583, song='Marry Me', status=200, ts=1542242741796, userAgent='\"Mozilla/5.0 (X11; Linux x86_64) AppleWebKit/537.36 (KHTML, like Gecko) Ubuntu Chromium/36.0.1985.125 Chrome/36.0.1985.125 Safari/537.36\"', userId='26'), Row(artist='Sony Wonder', auth='Logged In', firstName='Samuel', gender='M', itemInSession=0, lastName='Gonzalez', length=218.06975, level='free', location='Houston-The Woodlands-Sugar Land, TX', method='PUT', page='NextSong', registration=1540492941796.0, sessionId=597, song='Blackbird', status=200, ts=1542253449796, userAgent='\"Mozilla/5.0 (Macintosh; Intel Mac OS X 10_9_4) AppleWebKit/537.77.4 (KHTML, like Gecko) Version/7.0.5 Safari/537.77.4\"', userId='61'), Row(artist='Van Halen', auth='Logged In', firstName='Tegan', gender='F', itemInSession=2, lastName='Levine', length=289.38404, level='paid', location='Portland-South Portland, ME', method='PUT', page='NextSong', registration=1540794356796.0, sessionId=602, song='Best Of Both Worlds (Remastered Album Version)', status=200, ts=1542260935796, userAgent='\"Mozilla/5.0 (Macintosh; Intel Mac OS X 10_9_4) AppleWebKit/537.36 (KHTML, like Gecko) Chrome/36.0.1985.143 Safari/537.36\"', userId='80')]"
     ]
    }
   ],
   "source": [
    "df_filtered = df.filter(df.page == \"NextSong\")\n",
    "df_filtered.take(5)"
   ]
  },
  {
   "cell_type": "code",
   "execution_count": 13,
   "metadata": {},
   "outputs": [
    {
     "data": {
      "application/vnd.jupyter.widget-view+json": {
       "model_id": "724a0a41b8a347249aa6a5377ae1c69b",
       "version_major": 2,
       "version_minor": 0
      },
      "text/plain": [
       "VBox()"
      ]
     },
     "metadata": {},
     "output_type": "display_data"
    },
    {
     "data": {
      "application/vnd.jupyter.widget-view+json": {
       "model_id": "",
       "version_major": 2,
       "version_minor": 0
      },
      "text/plain": [
       "FloatProgress(value=0.0, bar_style='info', description='Progress:', layout=Layout(height='25px', width='50%'),…"
      ]
     },
     "metadata": {},
     "output_type": "display_data"
    }
   ],
   "source": [
    "users_table = df_filtered['userId', 'firstName', 'lastName', 'gender', 'level']"
   ]
  },
  {
   "cell_type": "code",
   "execution_count": 14,
   "metadata": {},
   "outputs": [
    {
     "data": {
      "application/vnd.jupyter.widget-view+json": {
       "model_id": "edc48b446e744b408533c0d1eda1089a",
       "version_major": 2,
       "version_minor": 0
      },
      "text/plain": [
       "VBox()"
      ]
     },
     "metadata": {},
     "output_type": "display_data"
    },
    {
     "data": {
      "application/vnd.jupyter.widget-view+json": {
       "model_id": "",
       "version_major": 2,
       "version_minor": 0
      },
      "text/plain": [
       "FloatProgress(value=0.0, bar_style='info', description='Progress:', layout=Layout(height='25px', width='50%'),…"
      ]
     },
     "metadata": {},
     "output_type": "display_data"
    },
    {
     "name": "stdout",
     "output_type": "stream",
     "text": [
      "[Row(userId='26', firstName='Ryan', lastName='Smith', gender='M', level='free'), Row(userId='26', firstName='Ryan', lastName='Smith', gender='M', level='free'), Row(userId='26', firstName='Ryan', lastName='Smith', gender='M', level='free'), Row(userId='61', firstName='Samuel', lastName='Gonzalez', gender='M', level='free'), Row(userId='80', firstName='Tegan', lastName='Levine', gender='F', level='paid')]"
     ]
    }
   ],
   "source": [
    "users_table.take(5)"
   ]
  },
  {
   "cell_type": "code",
   "execution_count": 15,
   "metadata": {},
   "outputs": [
    {
     "data": {
      "application/vnd.jupyter.widget-view+json": {
       "model_id": "699ea30e826e4b1a9bc0eafce6255f1e",
       "version_major": 2,
       "version_minor": 0
      },
      "text/plain": [
       "VBox()"
      ]
     },
     "metadata": {},
     "output_type": "display_data"
    },
    {
     "data": {
      "application/vnd.jupyter.widget-view+json": {
       "model_id": "",
       "version_major": 2,
       "version_minor": 0
      },
      "text/plain": [
       "FloatProgress(value=0.0, bar_style='info', description='Progress:', layout=Layout(height='25px', width='50%'),…"
      ]
     },
     "metadata": {},
     "output_type": "display_data"
    }
   ],
   "source": [
    "users_table.write.mode('overwrite').parquet(os.path.join(output_data, 'users'))"
   ]
  },
  {
   "cell_type": "code",
   "execution_count": 16,
   "metadata": {},
   "outputs": [
    {
     "data": {
      "application/vnd.jupyter.widget-view+json": {
       "model_id": "804cadb4fd8947a48a06a3529f0947c3",
       "version_major": 2,
       "version_minor": 0
      },
      "text/plain": [
       "VBox()"
      ]
     },
     "metadata": {},
     "output_type": "display_data"
    },
    {
     "data": {
      "application/vnd.jupyter.widget-view+json": {
       "model_id": "",
       "version_major": 2,
       "version_minor": 0
      },
      "text/plain": [
       "FloatProgress(value=0.0, bar_style='info', description='Progress:', layout=Layout(height='25px', width='50%'),…"
      ]
     },
     "metadata": {},
     "output_type": "display_data"
    }
   ],
   "source": [
    "from pyspark.sql.functions import year, to_date, to_timestamp, unix_timestamp, col, udf, hour,dayofmonth,weekofyear,month,date_format, to_date\n",
    "from datetime import datetime\n",
    "from pyspark.sql import types as t\n",
    "from datetime import datetime\n",
    "\n",
    "# create timestamp column from original timestamp column\n",
    "get_timestamp = udf(lambda x: int((int(x)/1000)))\n",
    "df_filtered = df_filtered.withColumn('timestamp', get_timestamp(df.ts))\n",
    "\n",
    "    # create datetime column from original timestamp column\n",
    "@udf\n",
    "def get_datetime(value):\n",
    "    return datetime.fromtimestamp(value)\n",
    "df_date = df_filtered.withColumn('date', get_datetime(df_filtered.timestamp))"
   ]
  },
  {
   "cell_type": "code",
   "execution_count": 18,
   "metadata": {},
   "outputs": [
    {
     "data": {
      "application/vnd.jupyter.widget-view+json": {
       "model_id": "90d1f843d46e4257ad8580766d7a1c62",
       "version_major": 2,
       "version_minor": 0
      },
      "text/plain": [
       "VBox()"
      ]
     },
     "metadata": {},
     "output_type": "display_data"
    },
    {
     "data": {
      "application/vnd.jupyter.widget-view+json": {
       "model_id": "",
       "version_major": 2,
       "version_minor": 0
      },
      "text/plain": [
       "FloatProgress(value=0.0, bar_style='info', description='Progress:', layout=Layout(height='25px', width='50%'),…"
      ]
     },
     "metadata": {},
     "output_type": "display_data"
    },
    {
     "name": "stdout",
     "output_type": "stream",
     "text": [
      "[Row(start_time='1542262893', day='15', year='2018', hour='6', week='46', month='November', weekday='Thursday'), Row(start_time='1542317145', day='15', year='2018', hour='21', week='46', month='November', weekday='Thursday'), Row(start_time='1542317497', day='15', year='2018', hour='21', week='46', month='November', weekday='Thursday'), Row(start_time='1542318845', day='15', year='2018', hour='21', week='46', month='November', weekday='Thursday'), Row(start_time='1542823359', day='21', year='2018', hour='18', week='47', month='November', weekday='Wednesday')]"
     ]
    }
   ],
   "source": [
    "# extract columns to create time table\n",
    "@udf\n",
    "def datetimeToYear(value):\n",
    "    return value.year if value is not None else None\n",
    "\n",
    "@udf\n",
    "def datetimeToHour(value):\n",
    "    return value.hour if value is not None else None\n",
    "\n",
    "# weekofyear\n",
    "@udf\n",
    "def datetimeToWeek(value):\n",
    "    return value.strftime(\"%W\") if value is not None else None\n",
    "\n",
    "# dayofmonth\n",
    "@udf\n",
    "def datetimeToDay(value):\n",
    "    return value.strftime(\"%d\") if value is not None else None\n",
    "\n",
    "@udf\n",
    "def datetimeToMonth(value):\n",
    "    return value.strftime(\"%B\") if value is not None else None\n",
    "\n",
    "@udf\n",
    "def datetimeToWeekDay(value):\n",
    "    return value.strftime(\"%A\") if value is not None else None\n",
    "\n",
    "df_date = df_date.withColumn('year', datetimeToYear(df_date.date))\n",
    "\n",
    "df_date = df_date.withColumn('hour', datetimeToHour(df_date.date))\n",
    "\n",
    "df_date = df_date.withColumn('week', datetimeToWeek(df_date.date))\n",
    "\n",
    "df_date = df_date.withColumn('day', datetimeToDay(df_date.date))\n",
    "\n",
    "df_date = df_date.withColumn('month', datetimeToMonth(df_date.date))\n",
    "\n",
    "df_date = df_date.withColumn('weekday', datetimeToWeekDay(df_date.date))\n",
    "    \n",
    "df_date.createOrReplaceTempView(\"date_table\")\n",
    "\n",
    "time_table = spark.sql(\"\"\"\n",
    "          SELECT DISTINCT timestamp as start_time, \n",
    "          day, \n",
    "          year, \n",
    "          hour, \n",
    "          week, \n",
    "          month, \n",
    "          weekday     \n",
    "          FROM date_table\n",
    "          GROUP BY timestamp, day, year, hour, week, month, weekday\n",
    "\"\"\")\n",
    "    \n",
    "time_table.take(5)"
   ]
  },
  {
   "cell_type": "code",
   "execution_count": 19,
   "metadata": {},
   "outputs": [
    {
     "data": {
      "application/vnd.jupyter.widget-view+json": {
       "model_id": "db9c67d0341a41b499b44ec55d5a0081",
       "version_major": 2,
       "version_minor": 0
      },
      "text/plain": [
       "VBox()"
      ]
     },
     "metadata": {},
     "output_type": "display_data"
    },
    {
     "data": {
      "application/vnd.jupyter.widget-view+json": {
       "model_id": "",
       "version_major": 2,
       "version_minor": 0
      },
      "text/plain": [
       "FloatProgress(value=0.0, bar_style='info', description='Progress:', layout=Layout(height='25px', width='50%'),…"
      ]
     },
     "metadata": {},
     "output_type": "display_data"
    }
   ],
   "source": [
    "time_table.write.partitionBy(\"year\", \"month\").mode('overwrite').parquet(os.path.join(output_data, 'time'))"
   ]
  },
  {
   "cell_type": "code",
   "execution_count": 22,
   "metadata": {},
   "outputs": [
    {
     "data": {
      "application/vnd.jupyter.widget-view+json": {
       "model_id": "bf76eece479242308798d682cb33f565",
       "version_major": 2,
       "version_minor": 0
      },
      "text/plain": [
       "VBox()"
      ]
     },
     "metadata": {},
     "output_type": "display_data"
    },
    {
     "data": {
      "application/vnd.jupyter.widget-view+json": {
       "model_id": "",
       "version_major": 2,
       "version_minor": 0
      },
      "text/plain": [
       "FloatProgress(value=0.0, bar_style='info', description='Progress:', layout=Layout(height='25px', width='50%'),…"
      ]
     },
     "metadata": {},
     "output_type": "display_data"
    },
    {
     "name": "stdout",
     "output_type": "stream",
     "text": [
      "[Row(timestamp='1542241826', userId='26', level='free', song='Sehr kosmisch', artist='Harmonia', sessionId=583, location='San Jose-Sunnyvale-Santa Clara, CA', userAgent='\"Mozilla/5.0 (X11; Linux x86_64) AppleWebKit/537.36 (KHTML, like Gecko) Ubuntu Chromium/36.0.1985.125 Chrome/36.0.1985.125 Safari/537.36\"'), Row(timestamp='1542242481', userId='26', level='free', song='The Big Gundown', artist='The Prodigy', sessionId=583, location='San Jose-Sunnyvale-Santa Clara, CA', userAgent='\"Mozilla/5.0 (X11; Linux x86_64) AppleWebKit/537.36 (KHTML, like Gecko) Ubuntu Chromium/36.0.1985.125 Chrome/36.0.1985.125 Safari/537.36\"'), Row(timestamp='1542242741', userId='26', level='free', song='Marry Me', artist='Train', sessionId=583, location='San Jose-Sunnyvale-Santa Clara, CA', userAgent='\"Mozilla/5.0 (X11; Linux x86_64) AppleWebKit/537.36 (KHTML, like Gecko) Ubuntu Chromium/36.0.1985.125 Chrome/36.0.1985.125 Safari/537.36\"'), Row(timestamp='1542253449', userId='61', level='free', song='Blackbird', artist='Sony Wonder', sessionId=597, location='Houston-The Woodlands-Sugar Land, TX', userAgent='\"Mozilla/5.0 (Macintosh; Intel Mac OS X 10_9_4) AppleWebKit/537.77.4 (KHTML, like Gecko) Version/7.0.5 Safari/537.77.4\"'), Row(timestamp='1542260935', userId='80', level='paid', song='Best Of Both Worlds (Remastered Album Version)', artist='Van Halen', sessionId=602, location='Portland-South Portland, ME', userAgent='\"Mozilla/5.0 (Macintosh; Intel Mac OS X 10_9_4) AppleWebKit/537.36 (KHTML, like Gecko) Chrome/36.0.1985.143 Safari/537.36\"')]"
     ]
    }
   ],
   "source": [
    "songplays_df = df_filtered['timestamp', 'userId', 'level', 'song', 'artist', 'sessionId', 'location', 'userAgent']\n",
    "songplays_df.take(5)"
   ]
  },
  {
   "cell_type": "code",
   "execution_count": 20,
   "metadata": {},
   "outputs": [
    {
     "data": {
      "application/vnd.jupyter.widget-view+json": {
       "model_id": "de4d2ce364644a2d91236a803d00c3d0",
       "version_major": 2,
       "version_minor": 0
      },
      "text/plain": [
       "VBox()"
      ]
     },
     "metadata": {},
     "output_type": "display_data"
    },
    {
     "data": {
      "application/vnd.jupyter.widget-view+json": {
       "model_id": "",
       "version_major": 2,
       "version_minor": 0
      },
      "text/plain": [
       "FloatProgress(value=0.0, bar_style='info', description='Progress:', layout=Layout(height='25px', width='50%'),…"
      ]
     },
     "metadata": {},
     "output_type": "display_data"
    },
    {
     "name": "stdout",
     "output_type": "stream",
     "text": [
      "[Row(song_id='SOBTCUI12A8AE48B70', title='Faust: Ballet Music (1959 Digital Remaster): VI.     Variations du miroir (Allegretto)', duration=94.56281, year=0, artist_id='ARSUVLW12454A4C8B8'), Row(song_id='SOVNKJI12A8C13CB0D', title=\"Take It To Da House (Featuring The Slip N' Slide Express) (Super Clean Album Version)\", duration=227.10812, year=2001, artist_id='ARWUNH81187FB4A3E0'), Row(song_id='SOYVBGZ12A6D4F92A8', title=\"Piano Sonata No. 21 in C 'Waldstein' Op. 53: II.    Introduzione (Adagio molto)\", duration=221.70077, year=0, artist_id='ARLRWBW1242077EB29'), Row(song_id='SODBHKO12A58A77F36', title='Fingers Of Love (Live At Sydney Opera House) (2006 Digital Remaster)', duration=335.93424, year=0, artist_id='ARKGS2Z1187FB494B5'), Row(song_id='SOGXFIF12A58A78CC4', title='Hanging On (Medium Key Performance Track Without Background Vocals)', duration=204.06812, year=0, artist_id='AR5LZJD1187FB4C5E5')]"
     ]
    }
   ],
   "source": [
    "songs_table = spark.read.parquet(os.path.join(output_data, 'songs'))\n",
    "songs_table.take(5)"
   ]
  },
  {
   "cell_type": "code",
   "execution_count": 23,
   "metadata": {},
   "outputs": [
    {
     "data": {
      "application/vnd.jupyter.widget-view+json": {
       "model_id": "c978def3e2814499ab7b4bff6e535745",
       "version_major": 2,
       "version_minor": 0
      },
      "text/plain": [
       "VBox()"
      ]
     },
     "metadata": {},
     "output_type": "display_data"
    },
    {
     "data": {
      "application/vnd.jupyter.widget-view+json": {
       "model_id": "",
       "version_major": 2,
       "version_minor": 0
      },
      "text/plain": [
       "FloatProgress(value=0.0, bar_style='info', description='Progress:', layout=Layout(height='25px', width='50%'),…"
      ]
     },
     "metadata": {},
     "output_type": "display_data"
    },
    {
     "name": "stdout",
     "output_type": "stream",
     "text": [
      "+----------+------+-----+--------------------+-----------+---------+--------------------+--------------------+-------+-----+--------+----+---------+\n",
      "| timestamp|userId|level|                song|     artist|sessionId|            location|           userAgent|song_id|title|duration|year|artist_id|\n",
      "+----------+------+-----+--------------------+-----------+---------+--------------------+--------------------+-------+-----+--------+----+---------+\n",
      "|1542241826|    26| free|       Sehr kosmisch|   Harmonia|      583|San Jose-Sunnyval...|\"Mozilla/5.0 (X11...|   null| null|    null|null|     null|\n",
      "|1542242481|    26| free|     The Big Gundown|The Prodigy|      583|San Jose-Sunnyval...|\"Mozilla/5.0 (X11...|   null| null|    null|null|     null|\n",
      "|1542242741|    26| free|            Marry Me|      Train|      583|San Jose-Sunnyval...|\"Mozilla/5.0 (X11...|   null| null|    null|null|     null|\n",
      "|1542253449|    61| free|           Blackbird|Sony Wonder|      597|Houston-The Woodl...|\"Mozilla/5.0 (Mac...|   null| null|    null|null|     null|\n",
      "|1542260935|    80| paid|Best Of Both Worl...|  Van Halen|      602|Portland-South Po...|\"Mozilla/5.0 (Mac...|   null| null|    null|null|     null|\n",
      "+----------+------+-----+--------------------+-----------+---------+--------------------+--------------------+-------+-----+--------+----+---------+\n",
      "only showing top 5 rows"
     ]
    }
   ],
   "source": [
    "songplays_df = songplays_df.join(songs_table, songplays_df.song==songs_table.title, how='left')\n",
    "songplays_df.show(5)"
   ]
  },
  {
   "cell_type": "code",
   "execution_count": 24,
   "metadata": {},
   "outputs": [
    {
     "data": {
      "application/vnd.jupyter.widget-view+json": {
       "model_id": "338e5957ceed4fcabb2eaace81119392",
       "version_major": 2,
       "version_minor": 0
      },
      "text/plain": [
       "VBox()"
      ]
     },
     "metadata": {},
     "output_type": "display_data"
    },
    {
     "data": {
      "application/vnd.jupyter.widget-view+json": {
       "model_id": "",
       "version_major": 2,
       "version_minor": 0
      },
      "text/plain": [
       "FloatProgress(value=0.0, bar_style='info', description='Progress:', layout=Layout(height='25px', width='50%'),…"
      ]
     },
     "metadata": {},
     "output_type": "display_data"
    },
    {
     "name": "stdout",
     "output_type": "stream",
     "text": [
      "[Row(start_time='1542287824', user_id='30', level='paid', song_id='SOUPKAB12AB0185DF9', artist_id='ARAGJTD1187B9A8646', session_id=324, location='San Jose-Sunnyvale-Santa Clara, CA', user_agent='Mozilla/5.0 (Windows NT 6.1; WOW64; rv:31.0) Gecko/20100101 Firefox/31.0'), Row(start_time='1542293170', user_id='30', level='paid', song_id='SOTCOTZ12A8C136BCB', artist_id='AR7WK5411A348EF5EA', session_id=324, location='San Jose-Sunnyvale-Santa Clara, CA', user_agent='Mozilla/5.0 (Windows NT 6.1; WOW64; rv:31.0) Gecko/20100101 Firefox/31.0'), Row(start_time='1542298745', user_id='97', level='paid', song_id='SOBLFFE12AF72AA5BA', artist_id='ARJNIUY12298900C91', session_id=605, location='Lansing-East Lansing, MI', user_agent='\"Mozilla/5.0 (X11; Linux x86_64) AppleWebKit/537.36 (KHTML, like Gecko) Chrome/37.0.2062.94 Safari/537.36\"'), Row(start_time='1542303865', user_id='97', level='paid', song_id='SOFXNQP12AB0184F1A', artist_id='AR9ODB41187FB459B2', session_id=605, location='Lansing-East Lansing, MI', user_agent='\"Mozilla/5.0 (X11; Linux x86_64) AppleWebKit/537.36 (KHTML, like Gecko) Chrome/37.0.2062.94 Safari/537.36\"'), Row(start_time='1542766578', user_id='97', level='paid', song_id='SONKSNV12A58A7F654', artist_id='AR8368J1187FB4CFF3', session_id=671, location='Lansing-East Lansing, MI', user_agent='\"Mozilla/5.0 (X11; Linux x86_64) AppleWebKit/537.36 (KHTML, like Gecko) Chrome/37.0.2062.94 Safari/537.36\"')]"
     ]
    }
   ],
   "source": [
    "\n",
    "songplays_df = songplays_df['timestamp', 'userId', 'level', 'song_id', 'artist_id', 'sessionId', 'location', 'userAgent']\n",
    "\n",
    "songplays_df.createOrReplaceTempView(\"songplays_table\")\n",
    "songplays_table = spark.sql(\"\"\"\n",
    "      SELECT timestamp as start_time,  \n",
    "      userId as user_id, \n",
    "      level, \n",
    "      song_id, \n",
    "      artist_id, \n",
    "      sessionId as session_id, \n",
    "      location, \n",
    "      userAgent as user_agent   \n",
    "      FROM songplays_table\n",
    "      WHERE song_id IS NOT NULL AND artist_id IS NOT NULL\n",
    "      LIMIT 5\n",
    "\"\"\")\n",
    "songplays_table.take(5)\n",
    "# songplays_df.show(5)\n",
    "\n"
   ]
  },
  {
   "cell_type": "code",
   "execution_count": 25,
   "metadata": {},
   "outputs": [
    {
     "data": {
      "application/vnd.jupyter.widget-view+json": {
       "model_id": "f2d5676bba144b11a90d1c67bf9d6fe2",
       "version_major": 2,
       "version_minor": 0
      },
      "text/plain": [
       "VBox()"
      ]
     },
     "metadata": {},
     "output_type": "display_data"
    },
    {
     "data": {
      "application/vnd.jupyter.widget-view+json": {
       "model_id": "",
       "version_major": 2,
       "version_minor": 0
      },
      "text/plain": [
       "FloatProgress(value=0.0, bar_style='info', description='Progress:', layout=Layout(height='25px', width='50%'),…"
      ]
     },
     "metadata": {},
     "output_type": "display_data"
    },
    {
     "name": "stdout",
     "output_type": "stream",
     "text": [
      "[Row(timestamp='1542241826', userId='26', level='free', song_id=None, artist_id=None, sessionId=583, location='San Jose-Sunnyvale-Santa Clara, CA', userAgent='\"Mozilla/5.0 (X11; Linux x86_64) AppleWebKit/537.36 (KHTML, like Gecko) Ubuntu Chromium/36.0.1985.125 Chrome/36.0.1985.125 Safari/537.36\"', songplay_id=0), Row(timestamp='1542242481', userId='26', level='free', song_id=None, artist_id=None, sessionId=583, location='San Jose-Sunnyvale-Santa Clara, CA', userAgent='\"Mozilla/5.0 (X11; Linux x86_64) AppleWebKit/537.36 (KHTML, like Gecko) Ubuntu Chromium/36.0.1985.125 Chrome/36.0.1985.125 Safari/537.36\"', songplay_id=1), Row(timestamp='1542242741', userId='26', level='free', song_id=None, artist_id=None, sessionId=583, location='San Jose-Sunnyvale-Santa Clara, CA', userAgent='\"Mozilla/5.0 (X11; Linux x86_64) AppleWebKit/537.36 (KHTML, like Gecko) Ubuntu Chromium/36.0.1985.125 Chrome/36.0.1985.125 Safari/537.36\"', songplay_id=2), Row(timestamp='1542253449', userId='61', level='free', song_id=None, artist_id=None, sessionId=597, location='Houston-The Woodlands-Sugar Land, TX', userAgent='\"Mozilla/5.0 (Macintosh; Intel Mac OS X 10_9_4) AppleWebKit/537.77.4 (KHTML, like Gecko) Version/7.0.5 Safari/537.77.4\"', songplay_id=3), Row(timestamp='1542260935', userId='80', level='paid', song_id=None, artist_id=None, sessionId=602, location='Portland-South Portland, ME', userAgent='\"Mozilla/5.0 (Macintosh; Intel Mac OS X 10_9_4) AppleWebKit/537.36 (KHTML, like Gecko) Chrome/36.0.1985.143 Safari/537.36\"', songplay_id=4)]"
     ]
    }
   ],
   "source": [
    "from pyspark.sql.functions import udf, monotonically_increasing_id\n",
    "\n",
    "songplays_df = songplays_df.withColumn('songplay_id', monotonically_increasing_id())\n",
    "songplays_df.take(5)"
   ]
  },
  {
   "cell_type": "code",
   "execution_count": 26,
   "metadata": {},
   "outputs": [
    {
     "data": {
      "application/vnd.jupyter.widget-view+json": {
       "model_id": "9c05e0bf2ff44a09a49d6a908edc5984",
       "version_major": 2,
       "version_minor": 0
      },
      "text/plain": [
       "VBox()"
      ]
     },
     "metadata": {},
     "output_type": "display_data"
    },
    {
     "data": {
      "application/vnd.jupyter.widget-view+json": {
       "model_id": "",
       "version_major": 2,
       "version_minor": 0
      },
      "text/plain": [
       "FloatProgress(value=0.0, bar_style='info', description='Progress:', layout=Layout(height='25px', width='50%'),…"
      ]
     },
     "metadata": {},
     "output_type": "display_data"
    }
   ],
   "source": [
    "songplays_df = songplays_df['songplay_id', 'timestamp', 'artist_id', 'song_id', 'userId', 'level', 'sessionId', 'location', 'userAgent']"
   ]
  },
  {
   "cell_type": "code",
   "execution_count": 27,
   "metadata": {},
   "outputs": [
    {
     "data": {
      "application/vnd.jupyter.widget-view+json": {
       "model_id": "2671e0a3111c42a28e98310677fa1713",
       "version_major": 2,
       "version_minor": 0
      },
      "text/plain": [
       "VBox()"
      ]
     },
     "metadata": {},
     "output_type": "display_data"
    },
    {
     "data": {
      "application/vnd.jupyter.widget-view+json": {
       "model_id": "",
       "version_major": 2,
       "version_minor": 0
      },
      "text/plain": [
       "FloatProgress(value=0.0, bar_style='info', description='Progress:', layout=Layout(height='25px', width='50%'),…"
      ]
     },
     "metadata": {},
     "output_type": "display_data"
    },
    {
     "name": "stdout",
     "output_type": "stream",
     "text": [
      "[Row(songplay_id=0, start_time='1542241826', user_id='26', level='free', song_id=None, artist_id=None, session_id=583, location='San Jose-Sunnyvale-Santa Clara, CA', user_agent='\"Mozilla/5.0 (X11; Linux x86_64) AppleWebKit/537.36 (KHTML, like Gecko) Ubuntu Chromium/36.0.1985.125 Chrome/36.0.1985.125 Safari/537.36\"'), Row(songplay_id=1, start_time='1542242481', user_id='26', level='free', song_id=None, artist_id=None, session_id=583, location='San Jose-Sunnyvale-Santa Clara, CA', user_agent='\"Mozilla/5.0 (X11; Linux x86_64) AppleWebKit/537.36 (KHTML, like Gecko) Ubuntu Chromium/36.0.1985.125 Chrome/36.0.1985.125 Safari/537.36\"'), Row(songplay_id=2, start_time='1542242741', user_id='26', level='free', song_id=None, artist_id=None, session_id=583, location='San Jose-Sunnyvale-Santa Clara, CA', user_agent='\"Mozilla/5.0 (X11; Linux x86_64) AppleWebKit/537.36 (KHTML, like Gecko) Ubuntu Chromium/36.0.1985.125 Chrome/36.0.1985.125 Safari/537.36\"'), Row(songplay_id=3, start_time='1542253449', user_id='61', level='free', song_id=None, artist_id=None, session_id=597, location='Houston-The Woodlands-Sugar Land, TX', user_agent='\"Mozilla/5.0 (Macintosh; Intel Mac OS X 10_9_4) AppleWebKit/537.77.4 (KHTML, like Gecko) Version/7.0.5 Safari/537.77.4\"'), Row(songplay_id=4, start_time='1542260935', user_id='80', level='paid', song_id=None, artist_id=None, session_id=602, location='Portland-South Portland, ME', user_agent='\"Mozilla/5.0 (Macintosh; Intel Mac OS X 10_9_4) AppleWebKit/537.36 (KHTML, like Gecko) Chrome/36.0.1985.143 Safari/537.36\"')]"
     ]
    }
   ],
   "source": [
    "songplays_df.createOrReplaceTempView(\"songplays_table\")\n",
    "\n",
    "\n",
    "songplays_table = spark.sql(\"\"\"\n",
    "      SELECT songplay_id, timestamp as start_time,  \n",
    "      userId as user_id, \n",
    "      level, \n",
    "      song_id, \n",
    "      artist_id, \n",
    "      sessionId as session_id, \n",
    "      location, \n",
    "      userAgent as user_agent   \n",
    "      FROM songplays_table\n",
    "      LIMIT 5\n",
    "\"\"\")\n",
    "songplays_table.take(5)"
   ]
  },
  {
   "cell_type": "code",
   "execution_count": 28,
   "metadata": {},
   "outputs": [
    {
     "data": {
      "application/vnd.jupyter.widget-view+json": {
       "model_id": "d6b78ae1aaa942638b83413f69985e2b",
       "version_major": 2,
       "version_minor": 0
      },
      "text/plain": [
       "VBox()"
      ]
     },
     "metadata": {},
     "output_type": "display_data"
    },
    {
     "data": {
      "application/vnd.jupyter.widget-view+json": {
       "model_id": "",
       "version_major": 2,
       "version_minor": 0
      },
      "text/plain": [
       "FloatProgress(value=0.0, bar_style='info', description='Progress:', layout=Layout(height='25px', width='50%'),…"
      ]
     },
     "metadata": {},
     "output_type": "display_data"
    },
    {
     "name": "stdout",
     "output_type": "stream",
     "text": [
      "+-----------+----------+---------+-------+------+-----+---------+--------------------+--------------------+----------+---+----+----+----+--------+--------+\n",
      "|songplay_id| timestamp|artist_id|song_id|userId|level|sessionId|            location|           userAgent|start_time|day|year|hour|week|   month| weekday|\n",
      "+-----------+----------+---------+-------+------+-----+---------+--------------------+--------------------+----------+---+----+----+----+--------+--------+\n",
      "|          0|1542241826|     null|   null|    26| free|      583|San Jose-Sunnyval...|\"Mozilla/5.0 (X11...|1542241826| 15|2018|   0|  46|November|Thursday|\n",
      "|          1|1542242481|     null|   null|    26| free|      583|San Jose-Sunnyval...|\"Mozilla/5.0 (X11...|1542242481| 15|2018|   0|  46|November|Thursday|\n",
      "|          2|1542242741|     null|   null|    26| free|      583|San Jose-Sunnyval...|\"Mozilla/5.0 (X11...|1542242741| 15|2018|   0|  46|November|Thursday|\n",
      "|          3|1542253449|     null|   null|    61| free|      597|Houston-The Woodl...|\"Mozilla/5.0 (Mac...|1542253449| 15|2018|   3|  46|November|Thursday|\n",
      "|          4|1542260935|     null|   null|    80| paid|      602|Portland-South Po...|\"Mozilla/5.0 (Mac...|1542260935| 15|2018|   5|  46|November|Thursday|\n",
      "+-----------+----------+---------+-------+------+-----+---------+--------------------+--------------------+----------+---+----+----+----+--------+--------+\n",
      "only showing top 5 rows"
     ]
    }
   ],
   "source": [
    "songplays_df = songplays_df.join(time_table, songplays_df.timestamp==time_table.start_time, how='left')\n",
    "songplays_df.show(5)"
   ]
  },
  {
   "cell_type": "code",
   "execution_count": 29,
   "metadata": {},
   "outputs": [
    {
     "data": {
      "application/vnd.jupyter.widget-view+json": {
       "model_id": "47b1ab8e092f4ac1bc82dad80080c277",
       "version_major": 2,
       "version_minor": 0
      },
      "text/plain": [
       "VBox()"
      ]
     },
     "metadata": {},
     "output_type": "display_data"
    },
    {
     "data": {
      "application/vnd.jupyter.widget-view+json": {
       "model_id": "",
       "version_major": 2,
       "version_minor": 0
      },
      "text/plain": [
       "FloatProgress(value=0.0, bar_style='info', description='Progress:', layout=Layout(height='25px', width='50%'),…"
      ]
     },
     "metadata": {},
     "output_type": "display_data"
    }
   ],
   "source": [
    "songplays_df = songplays_df['songplay_id', 'timestamp', 'artist_id', 'song_id', 'userId', 'level', 'sessionId', 'location', 'userAgent', 'month', 'year']"
   ]
  },
  {
   "cell_type": "code",
   "execution_count": 30,
   "metadata": {},
   "outputs": [
    {
     "data": {
      "application/vnd.jupyter.widget-view+json": {
       "model_id": "909cbaabb959422984623df1b4100f72",
       "version_major": 2,
       "version_minor": 0
      },
      "text/plain": [
       "VBox()"
      ]
     },
     "metadata": {},
     "output_type": "display_data"
    },
    {
     "data": {
      "application/vnd.jupyter.widget-view+json": {
       "model_id": "",
       "version_major": 2,
       "version_minor": 0
      },
      "text/plain": [
       "FloatProgress(value=0.0, bar_style='info', description='Progress:', layout=Layout(height='25px', width='50%'),…"
      ]
     },
     "metadata": {},
     "output_type": "display_data"
    },
    {
     "name": "stdout",
     "output_type": "stream",
     "text": [
      "[Row(songplay_id=0, start_time='1542241826', user_id='26', month='November', year='2018', level='free', song_id=None, artist_id=None, session_id=583, location='San Jose-Sunnyvale-Santa Clara, CA', user_agent='\"Mozilla/5.0 (X11; Linux x86_64) AppleWebKit/537.36 (KHTML, like Gecko) Ubuntu Chromium/36.0.1985.125 Chrome/36.0.1985.125 Safari/537.36\"'), Row(songplay_id=1, start_time='1542242481', user_id='26', month='November', year='2018', level='free', song_id=None, artist_id=None, session_id=583, location='San Jose-Sunnyvale-Santa Clara, CA', user_agent='\"Mozilla/5.0 (X11; Linux x86_64) AppleWebKit/537.36 (KHTML, like Gecko) Ubuntu Chromium/36.0.1985.125 Chrome/36.0.1985.125 Safari/537.36\"'), Row(songplay_id=2, start_time='1542242741', user_id='26', month='November', year='2018', level='free', song_id=None, artist_id=None, session_id=583, location='San Jose-Sunnyvale-Santa Clara, CA', user_agent='\"Mozilla/5.0 (X11; Linux x86_64) AppleWebKit/537.36 (KHTML, like Gecko) Ubuntu Chromium/36.0.1985.125 Chrome/36.0.1985.125 Safari/537.36\"'), Row(songplay_id=3, start_time='1542253449', user_id='61', month='November', year='2018', level='free', song_id=None, artist_id=None, session_id=597, location='Houston-The Woodlands-Sugar Land, TX', user_agent='\"Mozilla/5.0 (Macintosh; Intel Mac OS X 10_9_4) AppleWebKit/537.77.4 (KHTML, like Gecko) Version/7.0.5 Safari/537.77.4\"'), Row(songplay_id=4, start_time='1542260935', user_id='80', month='November', year='2018', level='paid', song_id=None, artist_id=None, session_id=602, location='Portland-South Portland, ME', user_agent='\"Mozilla/5.0 (Macintosh; Intel Mac OS X 10_9_4) AppleWebKit/537.36 (KHTML, like Gecko) Chrome/36.0.1985.143 Safari/537.36\"')]"
     ]
    }
   ],
   "source": [
    "songplays_df.createOrReplaceTempView(\"songplays_table\")\n",
    "\n",
    "\n",
    "songplays_table = spark.sql(\"\"\"\n",
    "      SELECT songplay_id, \n",
    "      timestamp as start_time,  \n",
    "      userId as user_id, \n",
    "      month,\n",
    "      year,\n",
    "      level, \n",
    "      song_id, \n",
    "      artist_id, \n",
    "      sessionId as session_id, \n",
    "      location, \n",
    "      userAgent as user_agent   \n",
    "      FROM songplays_table\n",
    "\"\"\")\n",
    "songplays_table.take(5)"
   ]
  },
  {
   "cell_type": "code",
   "execution_count": 31,
   "metadata": {},
   "outputs": [
    {
     "data": {
      "application/vnd.jupyter.widget-view+json": {
       "model_id": "cc25e56e024d4a1e8b96c6f7736d0cfc",
       "version_major": 2,
       "version_minor": 0
      },
      "text/plain": [
       "VBox()"
      ]
     },
     "metadata": {},
     "output_type": "display_data"
    },
    {
     "data": {
      "application/vnd.jupyter.widget-view+json": {
       "model_id": "",
       "version_major": 2,
       "version_minor": 0
      },
      "text/plain": [
       "FloatProgress(value=0.0, bar_style='info', description='Progress:', layout=Layout(height='25px', width='50%'),…"
      ]
     },
     "metadata": {},
     "output_type": "display_data"
    }
   ],
   "source": [
    "songplays_table.write.partitionBy(\"year\", \"month\").mode('overwrite').parquet(os.path.join(output_data, 'time'))"
   ]
  },
  {
   "cell_type": "code",
   "execution_count": null,
   "metadata": {},
   "outputs": [],
   "source": []
  }
 ],
 "metadata": {
  "kernelspec": {
   "display_name": "PySpark",
   "language": "",
   "name": "pysparkkernel"
  },
  "language_info": {
   "codemirror_mode": {
    "name": "python",
    "version": 2
   },
   "mimetype": "text/x-python",
   "name": "pyspark",
   "pygments_lexer": "python2"
  }
 },
 "nbformat": 4,
 "nbformat_minor": 4
}
